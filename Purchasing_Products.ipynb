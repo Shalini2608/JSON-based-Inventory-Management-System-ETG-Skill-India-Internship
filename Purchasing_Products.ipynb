{
 "cells": [
  {
   "cell_type": "markdown",
   "metadata": {
    "id": "R6NHgAYkxqSl"
   },
   "source": [
    "## Read Inventory"
   ]
  },
  {
   "cell_type": "code",
   "execution_count": 43,
   "metadata": {
    "id": "jkJT24jqug9n"
   },
   "outputs": [],
   "source": [
    "import json\n",
    "\n",
    "fd = open(\"record.json\",'r')\n",
    "r = fd.read()\n",
    "fd.close()\n",
    "\n",
    "record = json.loads(r)"
   ]
  },
  {
   "cell_type": "code",
   "execution_count": 44,
   "metadata": {
    "colab": {
     "base_uri": "https://localhost:8080/"
    },
    "id": "CcLYokrlus6z",
    "outputId": "525ffebc-7e32-463b-b0a4-2e6e9fc73f7c"
   },
   "outputs": [
    {
     "data": {
      "text/plain": [
       "{'1001': {'name': 'Choco Cake',\n",
       "  'pr': 199,\n",
       "  'qn': 250,\n",
       "  'mgf': '4/21',\n",
       "  'doe': '6/22'},\n",
       " '1002': {'name': 'Milk Cake',\n",
       "  'pr': 800,\n",
       "  'qn': 140,\n",
       "  'mfg': '9/20',\n",
       "  'doe': '10/21'},\n",
       " '1003': {'name': 'Drink', 'pr': 85, 'qn': 98, 'mfg': '8/20', 'doe': '9/21'},\n",
       " '1004': {'name': 'Candy', 'pr': 5, 'qn': 1000, 'mfg': '6/20', 'doe': '8/21'},\n",
       " '1005': {'name': 'Pen', 'pr': 20, 'qn': 100, 'mfg': '9/20', 'doe': '11/21'},\n",
       " '1006': {'name': 'Phone',\n",
       "  'pr': 50000,\n",
       "  'qn': 10,\n",
       "  'mfg': '11/20',\n",
       "  'doe': '12/21'},\n",
       " '1007': {'name': 'Mic', 'pr': 1200, 'qn': 15, 'mfg': '4/20', 'doe': '5/21'},\n",
       " '1008': {'name': 'Case', 'pr': 799, 'qn': 15, 'mgf': '5/20', 'doe': '7/21'},\n",
       " '1009': {'name': 'Keyboard',\n",
       "  'pr': 1999,\n",
       "  'qn': 10,\n",
       "  'mfg': '7/20',\n",
       "  'doe': '8/21'},\n",
       " '1010': {'name': 'Pencil', 'pr': 20, 'qn': 100, 'mfg': '7/20', 'doe': '8/21'},\n",
       " '1011': {'name': 'Eraser', 'pr': 5, 'qn': 50, 'mfg': '3/20', 'doe': '5/21'},\n",
       " '1012': {'name': 'Sharpner',\n",
       "  'pr': 20,\n",
       "  'qn': 40,\n",
       "  'mfg': '1/20',\n",
       "  'doe': '2/21'},\n",
       " '1013': {'name': 'Copy', 'pr': 50, 'qn': 100, 'mfg': '2/20', 'doe': '3/21'},\n",
       " '1014': {'name': 'Lays', 'pr': 20, 'qn': 100, 'mfg': '7/20', 'doe': '8/21'},\n",
       " '1015': {'name': 'Kurkure', 'pr': 10, 'qn': 10, 'mfg': '6/20', 'doe': '6/21'},\n",
       " '1016': {'name': 'Cheese', 'pr': 15, 'qn': 5, 'mfg': '7/20', 'doe': '8/21'},\n",
       " '1017': {'name': 'Mayonnaise',\n",
       "  'pr': 150,\n",
       "  'qn': 10,\n",
       "  'mfg': '12/20',\n",
       "  'doe': '11/21'},\n",
       " '1018': {'name': 'Dairy Milk Chocolate',\n",
       "  'pr': 50,\n",
       "  'qn': 40,\n",
       "  'mfg': '10/20',\n",
       "  'doe': '11/21'},\n",
       " '1019': {'name': '5-star chocolate',\n",
       "  'pr': 30,\n",
       "  'qn': 45,\n",
       "  'mfg': '8/20',\n",
       "  'doe': '10/21'},\n",
       " '1020': {'name': 'Milky Bar',\n",
       "  'pr': 20,\n",
       "  'qn': 148,\n",
       "  'mfg': '8/20',\n",
       "  'doe': '9/21'},\n",
       " '1021': {'name': 'Book', 'pr': 100, 'qn': 70, 'mfg': '7/20', 'doe': '8/21'},\n",
       " '1022': {'name': 'Bracelet',\n",
       "  'pr': 100,\n",
       "  'qn': 5,\n",
       "  'mfg': '7/20',\n",
       "  'doe': '8/21'},\n",
       " '1023': {'name': 'Hair clips',\n",
       "  'pr': 20,\n",
       "  'qn': 95,\n",
       "  'mfg': '7/20',\n",
       "  'doe': '8/21'},\n",
       " '1024': {'name': 'Kajal', 'pr': 199, 'qn': 50, 'mfg': '6/20', 'doe': '7/21'},\n",
       " '1025': {'name': 'Earrings',\n",
       "  'pr': 100,\n",
       "  'qn': 48,\n",
       "  'mfg': '7/20',\n",
       "  'doe': '9/21'},\n",
       " '1026': {'name': 'Eye liner',\n",
       "  'pr': 499,\n",
       "  'qn': 10,\n",
       "  'mfg': '4/20',\n",
       "  'doe': '5/21'},\n",
       " '1027': {'name': 'Foundation',\n",
       "  'pr': 799,\n",
       "  'qn': 8,\n",
       "  'mfg': '3/20',\n",
       "  'doe': '5/21'},\n",
       " '1028': {'name': 'Concealer',\n",
       "  'pr': 700,\n",
       "  'qn': 100,\n",
       "  'mfg': '5/20',\n",
       "  'doe': '6/21'},\n",
       " '1029': {'name': 'Shampoo',\n",
       "  'pr': 500,\n",
       "  'qn': 40,\n",
       "  'mfg': '8/20',\n",
       "  'doe': '9/21'},\n",
       " '1030': {'name': 'Conditioner',\n",
       "  'pr': 250,\n",
       "  'qn': 50,\n",
       "  'mfg': '7/20',\n",
       "  'doe': '8/21'},\n",
       " '1031': {'name': 'Earphone',\n",
       "  'pr': 500,\n",
       "  'qn': 30,\n",
       "  'mfg': '6/20',\n",
       "  'doe': '7/21'},\n",
       " '1032': {'name': 'Nail Polish',\n",
       "  'pr': 55,\n",
       "  'qn': 30,\n",
       "  'mfg': '5/20',\n",
       "  'doe': '6/21'},\n",
       " '1033': {'name': 'Bottle', 'pr': 70, 'qn': 30, 'mfg': '4/20', 'doe': '6/21'}}"
      ]
     },
     "execution_count": 44,
     "metadata": {},
     "output_type": "execute_result"
    }
   ],
   "source": [
    "record"
   ]
  },
  {
   "cell_type": "markdown",
   "metadata": {
    "id": "WI5f7HTuxwzb"
   },
   "source": [
    "## Purchase"
   ]
  },
  {
   "cell_type": "code",
   "execution_count": 38,
   "metadata": {
    "colab": {
     "base_uri": "https://localhost:8080/"
    },
    "id": "c4E4eIvyuth0",
    "outputId": "91896933-af33-4e3e-ad2b-478c1243c6a3"
   },
   "outputs": [
    {
     "name": "stdout",
     "output_type": "stream",
     "text": [
      "Enter the product_Id: 1022\n",
      "Enter the quantity: 5\n",
      "Product:  Bracelet\n",
      "Price:  100\n",
      "Billing Amount:  500\n"
     ]
    }
   ],
   "source": [
    "prod_id  = input(\"Enter the product_Id: \")\n",
    "quant_2 = int(input(\"Enter the quantity: \"))\n",
    "\n",
    "if prod_id in record.keys():\n",
    "    if quant_2 > record[prod_id]['qn']:\n",
    "        print(\"The entered quantity exceeds the original quantity\")\n",
    "    else:\n",
    "        print(\"Product: \", record[prod_id]['name'])\n",
    "        print(\"Price: \", record[prod_id]['pr'])\n",
    "        print(\"Billing Amount: \", record[prod_id]['pr'] * quant_2)\n",
    "        record[prod_id]['qn'] = record[prod_id]['qn'] - quant_2\n",
    "else:\n",
    "    print(\"Invalid product id\")\n",
    "    \n"
   ]
  },
  {
   "cell_type": "markdown",
   "metadata": {
    "id": "3h8S8JBVx1_D"
   },
   "source": [
    "## Update Inventory after purchase"
   ]
  },
  {
   "cell_type": "code",
   "execution_count": 39,
   "metadata": {
    "id": "TO68fUvvwzXt"
   },
   "outputs": [],
   "source": [
    "js = json.dumps(record)\n",
    "\n",
    "fd = open(\"record.json\",'w')\n",
    "fd.write(js)\n",
    "fd.close()"
   ]
  },
  {
   "cell_type": "markdown",
   "metadata": {
    "id": "pl_p5yDpyu_9"
   },
   "source": [
    "## Sales JSON"
   ]
  },
  {
   "cell_type": "code",
   "execution_count": 40,
   "metadata": {
    "colab": {
     "base_uri": "https://localhost:8080/"
    },
    "id": "FwBezn_LxBV4",
    "outputId": "e1fb37d9-17c3-4cde-de23-4f9057e74203"
   },
   "outputs": [],
   "source": [
    "if prod_id in record.keys():\n",
    "    if quant_2 < record[prod_id]['qn']:\n",
    "        print({'prod' : prod_id, 'qn' : quant_2, 'amount': record[prod_id]['pr'] * quant_2})       \n"
   ]
  },
  {
   "cell_type": "code",
   "execution_count": 41,
   "metadata": {
    "id": "6R0kXinOyWbK"
   },
   "outputs": [
    {
     "name": "stdout",
     "output_type": "stream",
     "text": [
      "Enter the transaction number:6\n"
     ]
    }
   ],
   "source": [
    "num = int(input(\"Enter the transaction number:\"))\n",
    "sales = {num : {'prod' : prod_id, 'qn' : quant_2, 'amount': record[prod_id]['pr'] * quant_2}}\n",
    "         "
   ]
  },
  {
   "cell_type": "code",
   "execution_count": 42,
   "metadata": {
    "colab": {
     "base_uri": "https://localhost:8080/",
     "height": 52
    },
    "id": "LRbOdbiUycNe",
    "outputId": "d2f68e95-b223-4d6b-f3f0-155466fc18a0"
   },
   "outputs": [],
   "source": [
    "sales = json.dumps(sales)\n",
    "\n",
    "fd=open(\"sales.json\",'a')\n",
    "fd.write(sales)\n",
    "fd.close()"
   ]
  },
  {
   "cell_type": "code",
   "execution_count": null,
   "metadata": {},
   "outputs": [],
   "source": []
  }
 ],
 "metadata": {
  "colab": {
   "name": "Purchasing Products",
   "provenance": []
  },
  "kernelspec": {
   "display_name": "Python 3",
   "language": "python",
   "name": "python3"
  },
  "language_info": {
   "codemirror_mode": {
    "name": "ipython",
    "version": 3
   },
   "file_extension": ".py",
   "mimetype": "text/x-python",
   "name": "python",
   "nbconvert_exporter": "python",
   "pygments_lexer": "ipython3",
   "version": "3.8.5"
  }
 },
 "nbformat": 4,
 "nbformat_minor": 1
}
